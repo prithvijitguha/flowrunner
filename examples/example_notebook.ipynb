{
 "cells": [
  {
   "attachments": {},
   "cell_type": "markdown",
   "metadata": {},
   "source": [
    "\n",
    "\n",
    "## Install flowrunner"
   ]
  },
  {
   "cell_type": "code",
   "execution_count": null,
   "metadata": {},
   "outputs": [],
   "source": [
    "!pip install flowrunner"
   ]
  },
  {
   "attachments": {},
   "cell_type": "markdown",
   "metadata": {},
   "source": [
    "## Create an Example flow \n",
    "\n",
    "In this flow we define the following steps \n",
    "- create_data: A function to create dataset or input Pandas DataFrames\n",
    "- transformation_function_1: A function to add a snapshot_date of 2023-03-12 to the dataset \n",
    "- transformation_function_2: A function to add a snapshot_date of 2023-01-01 to the dataset\n",
    "- append_data: A function to append/union the dataframes together \n",
    "- show_data: A function to show the data `note: This one has a return at the end, this is important later`"
   ]
  },
  {
   "cell_type": "code",
   "execution_count": 6,
   "metadata": {},
   "outputs": [],
   "source": [
    "# -*- coding: utf-8 -*-\n",
    "import pandas as pd\n",
    "\n",
    "from flowrunner import BaseFlow, end, start, step\n",
    "\n",
    "\n",
    "class ExamplePandas(BaseFlow):\n",
    "    @start\n",
    "    @step(next=[\"transformation_function_1\", \"transformation_function_2\"])\n",
    "    def create_data(self):\n",
    "        \"\"\"\n",
    "        This method we create the dataset we are going use. In real use cases,\n",
    "        you'll have to read from a source (csv, parquet, etc)\n",
    "\n",
    "        For this example we create two dataframes for students ranked by marked scored\n",
    "        for when they attempted the example on 1st January 2023 and 12th March 2023\n",
    "\n",
    "        After creating the dataset we pass it to the next methods\n",
    "\n",
    "        - transformation_function_1\n",
    "        - transformation_function_2\n",
    "        \"\"\"\n",
    "        data1 = {\"Name\": [\"Hermione\", \"Harry\", \"Ron\"], \"marks\": [100, 85, 75]}\n",
    "\n",
    "        data2 = {\"Name\": [\"Hermione\", \"Ron\", \"Harry\"], \"marks\": [100, 90, 80]}\n",
    "\n",
    "        df1 = pd.DataFrame(data1, index=[\"rank1\", \"rank2\", \"rank3\"])\n",
    "\n",
    "        df2 = pd.DataFrame(data2, index=[\"rank1\", \"rank2\", \"rank3\"])\n",
    "\n",
    "        self.input_data_1 = df1\n",
    "        self.input_data_2 = df2\n",
    "\n",
    "    @step(next=[\"append_data\"])\n",
    "    def transformation_function_1(self):\n",
    "        \"\"\"\n",
    "        Here we add a snapshot_date to the input dataframe of 2023-03-12\n",
    "        \"\"\"\n",
    "        transformed_df = self.input_data_1\n",
    "        transformed_df.insert(1, \"snapshot_date\", \"2023-03-12\")\n",
    "        self.transformed_df_1 = transformed_df\n",
    "\n",
    "    @step(next=[\"append_data\"])\n",
    "    def transformation_function_2(self):\n",
    "        \"\"\"\n",
    "        Here we add a snapshot_date to the input dataframe of 2023-01-01\n",
    "        \"\"\"\n",
    "        transformed_df = self.input_data_2\n",
    "        transformed_df.insert(1, \"snapshot_date\", \"2023-01-01\")\n",
    "        self.transformed_df_2 = transformed_df\n",
    "\n",
    "    @step(next=[\"show_data\"])\n",
    "    def append_data(self):\n",
    "        \"\"\"\n",
    "        Here we append the two dataframe together\n",
    "        \"\"\"\n",
    "        self.final_df = pd.concat([self.transformed_df_1, self.transformed_df_2])\n",
    "\n",
    "    @end\n",
    "    @step\n",
    "    def show_data(self):\n",
    "        \"\"\"\n",
    "        Here we show the new final dataframe of aggregated data. However in real use cases. It would\n",
    "        be more likely to write the data to some final layer/format\n",
    "        \"\"\"\n",
    "        print(self.final_df)\n",
    "        return self.final_df\n"
   ]
  },
  {
   "attachments": {},
   "cell_type": "markdown",
   "metadata": {},
   "source": [
    "## Create an instance of your flow "
   ]
  },
  {
   "cell_type": "code",
   "execution_count": 3,
   "metadata": {},
   "outputs": [],
   "source": [
    "example = ExamplePandas() # create an instance of your flow "
   ]
  },
  {
   "attachments": {},
   "cell_type": "markdown",
   "metadata": {},
   "source": [
    "## Let's use `show` to show what our flow will do"
   ]
  },
  {
   "cell_type": "code",
   "execution_count": 4,
   "metadata": {},
   "outputs": [
    {
     "name": "stderr",
     "output_type": "stream",
     "text": [
      "\u001b[1;30mDEBUG\u001b[0m | \u001b[32mValidating flow for ExamplePandas(data_store={}, param_store={})\u001b[0m | \u001b[32m2023-03-25 23:24:59\u001b[0m |  \u001b[34mflowrunner.system.logger\u001b[0m | 4884 \n",
      "\u001b[1;30mDEBUG\u001b[0m | \u001b[32mShow flow for ExamplePandas(data_store={}, param_store={})\u001b[0m | \u001b[32m2023-03-25 23:24:59\u001b[0m |  \u001b[34mflowrunner.system.logger\u001b[0m | 4884 \n"
     ]
    },
    {
     "name": "stdout",
     "output_type": "stream",
     "text": [
      "\u001b[32mcreate_data\n",
      "\u001b[0m\n",
      "\u001b[91m\n",
      "        This method we create the dataset we are going use. In real use cases,\n",
      "        you'll have to read from a source (csv, parquet, etc)\n",
      "\n",
      "        For this example we create two dataframes for students ranked by marked scored\n",
      "        for when they attempted the example on 1st January 2023 and 12th March 2023\n",
      "\n",
      "        After creating the dataset we pass it to the next methods\n",
      "\n",
      "        - transformation_function_1\n",
      "        - transformation_function_2\n",
      "        \u001b[0m\n",
      "\u001b[34m   Next=transformation_function_1, transformation_function_2\n",
      "\n",
      "\u001b[0m\n",
      "\u001b[32mtransformation_function_1\n",
      "\u001b[0m\n",
      "\u001b[91m\n",
      "        Here we add a snapshot_date to the input dataframe of 2023-03-12\n",
      "        \u001b[0m\n",
      "\u001b[34m   Next=append_data\n",
      "\n",
      "\u001b[0m\n",
      "\u001b[32mtransformation_function_2\n",
      "\u001b[0m\n",
      "\u001b[91m\n",
      "        Here we add a snapshot_date to the input dataframe of 2023-01-01\n",
      "        \u001b[0m\n",
      "\u001b[34m   Next=append_data\n",
      "\n",
      "\u001b[0m\n",
      "\u001b[32mappend_data\n",
      "\u001b[0m\n",
      "\u001b[91m\n",
      "        Here we append the two dataframe together\n",
      "        \u001b[0m\n",
      "\u001b[34m   Next=show_data\n",
      "\n",
      "\u001b[0m\n",
      "\u001b[32mshow_data\n",
      "\u001b[0m\n",
      "\u001b[91m\n",
      "        Here we show the new final dataframe of aggregated data. However in real use cases. It would\n",
      "        be more likely to write the data to some final layer/format\n",
      "        \u001b[0m\n"
     ]
    }
   ],
   "source": [
    "example.show()"
   ]
  },
  {
   "attachments": {},
   "cell_type": "markdown",
   "metadata": {},
   "source": [
    "## Now let's display our DAG"
   ]
  },
  {
   "cell_type": "code",
   "execution_count": 7,
   "metadata": {},
   "outputs": [
    {
     "data": {
      "text/html": [
       "<img src=\"https://mermaid.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\"/>"
      ],
      "text/plain": [
       "<IPython.core.display.Image object>"
      ]
     },
     "metadata": {},
     "output_type": "display_data"
    }
   ],
   "source": [
    "example.display()"
   ]
  },
  {
   "attachments": {},
   "cell_type": "markdown",
   "metadata": {},
   "source": [
    "## Finally we can run our `flow`\n"
   ]
  },
  {
   "cell_type": "code",
   "execution_count": 8,
   "metadata": {},
   "outputs": [
    {
     "name": "stderr",
     "output_type": "stream",
     "text": [
      "\u001b[1;30mDEBUG\u001b[0m | \u001b[32mValidating flow for ExamplePandas(data_store={}, param_store={})\u001b[0m | \u001b[32m2023-03-25 23:25:53\u001b[0m |  \u001b[34mflowrunner.system.logger\u001b[0m | 4884 \n",
      "\u001b[1;30mWARNING\u001b[0m | \u001b[33mValidation will raise InvalidFlowException if invalid Flow found\u001b[0m | \u001b[32m2023-03-25 23:25:53\u001b[0m |  \u001b[34mflowrunner.system.logger\u001b[0m | 4884 \n",
      "\u001b[1;30mDEBUG\u001b[0m | \u001b[32mRunning flow for ExamplePandas(data_store={}, param_store={})\u001b[0m | \u001b[32m2023-03-25 23:25:53\u001b[0m |  \u001b[34mflowrunner.system.logger\u001b[0m | 4884 \n"
     ]
    },
    {
     "name": "stdout",
     "output_type": "stream",
     "text": [
      "           Name snapshot_date  marks\n",
      "rank1  Hermione    2023-03-12    100\n",
      "rank2     Harry    2023-03-12     85\n",
      "rank3       Ron    2023-03-12     75\n",
      "rank1  Hermione    2023-01-01    100\n",
      "rank2       Ron    2023-01-01     90\n",
      "rank3     Harry    2023-01-01     80\n"
     ]
    }
   ],
   "source": [
    "example.run()"
   ]
  },
  {
   "attachments": {},
   "cell_type": "markdown",
   "metadata": {},
   "source": [
    "## We can also `print()` the object to see the output of each function\n",
    "\n",
    "- In the output we can see there are values for `data_store`: Which contains output of each function in case there was a return\n",
    "- We can also see `param_store`. Param store is used to pass reusable parameters to each flow"
   ]
  },
  {
   "cell_type": "code",
   "execution_count": 9,
   "metadata": {},
   "outputs": [
    {
     "name": "stdout",
     "output_type": "stream",
     "text": [
      "ExamplePandas(data_store={'create_data': None, 'transformation_function_1': None, 'transformation_function_2': None, 'append_data': None, 'show_data':            Name snapshot_date  marks\n",
      "rank1  Hermione    2023-03-12    100\n",
      "rank2     Harry    2023-03-12     85\n",
      "rank3       Ron    2023-03-12     75\n",
      "rank1  Hermione    2023-01-01    100\n",
      "rank2       Ron    2023-01-01     90\n",
      "rank3     Harry    2023-01-01     80}, param_store={})\n"
     ]
    }
   ],
   "source": [
    "print(example)"
   ]
  },
  {
   "cell_type": "code",
   "execution_count": null,
   "metadata": {},
   "outputs": [],
   "source": []
  }
 ],
 "metadata": {
  "kernelspec": {
   "display_name": ".venv",
   "language": "python",
   "name": "python3"
  },
  "language_info": {
   "codemirror_mode": {
    "name": "ipython",
    "version": 3
   },
   "file_extension": ".py",
   "mimetype": "text/x-python",
   "name": "python",
   "nbconvert_exporter": "python",
   "pygments_lexer": "ipython3",
   "version": "3.9.13"
  },
  "orig_nbformat": 4
 },
 "nbformat": 4,
 "nbformat_minor": 2
}
